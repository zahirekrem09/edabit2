{
 "cells": [
  {
   "cell_type": "code",
   "execution_count": 1,
   "metadata": {},
   "outputs": [
    {
     "ename": "SyntaxError",
     "evalue": "invalid syntax (<ipython-input-1-f39b70f7311b>, line 3)",
     "output_type": "error",
     "traceback": [
      "\u001b[1;36m  File \u001b[1;32m\"<ipython-input-1-f39b70f7311b>\"\u001b[1;36m, line \u001b[1;32m3\u001b[0m\n\u001b[1;33m    if delta=0:\u001b[0m\n\u001b[1;37m            ^\u001b[0m\n\u001b[1;31mSyntaxError\u001b[0m\u001b[1;31m:\u001b[0m invalid syntax\n"
     ]
    }
   ],
   "source": [
    "def solutions(a, b, c):\n",
    "    delta=b**2 - 4*a*c\n",
    "    if delta=0:\n",
    "        return 1\n",
    "    elif delta<0:\n",
    "        return 0\n",
    "    else:\n",
    "        return 2"
   ]
  },
  {
   "cell_type": "code",
   "execution_count": 2,
   "metadata": {},
   "outputs": [],
   "source": [
    "def solutions(a, b, c):\n",
    "    delta=b**2 - 4*a*c\n",
    "    if delta==0:\n",
    "        return 1\n",
    "    elif delta<0:\n",
    "        return 0\n",
    "    else:\n",
    "        return 2"
   ]
  },
  {
   "cell_type": "code",
   "execution_count": 4,
   "metadata": {},
   "outputs": [
    {
     "data": {
      "text/plain": [
       "2"
      ]
     },
     "execution_count": 4,
     "metadata": {},
     "output_type": "execute_result"
    }
   ],
   "source": [
    "solutions(1, 0, -1)"
   ]
  },
  {
   "cell_type": "code",
   "execution_count": 16,
   "metadata": {},
   "outputs": [
    {
     "data": {
      "text/plain": [
       "[1]"
      ]
     },
     "execution_count": 16,
     "metadata": {},
     "output_type": "execute_result"
    }
   ],
   "source": [
    "lst=[\"String\",  True,  3.3,  1]\n",
    "ylst=[i for i in lst if type(i) is int]\n",
    "\n",
    "\n",
    "\n",
    "ylst"
   ]
  },
  {
   "cell_type": "code",
   "execution_count": 22,
   "metadata": {},
   "outputs": [
    {
     "data": {
      "text/plain": [
       "[7, 14, 21, 28, 35]"
      ]
     },
     "execution_count": 22,
     "metadata": {},
     "output_type": "execute_result"
    }
   ],
   "source": [
    "l=[]\n",
    "i=1\n",
    "while(i<6):\n",
    "    l.append(7*i)\n",
    "    i+=1\n",
    "l"
   ]
  },
  {
   "cell_type": "code",
   "execution_count": 23,
   "metadata": {},
   "outputs": [],
   "source": [
    "def list_of_multiples (num, length):\n",
    "\tl=[]\n",
    "\ti=1\n",
    "\twhile(i<length+1):\n",
    "\t\tl.append(num*i)\n",
    "\t\ti+=1\n",
    "\treturn l"
   ]
  },
  {
   "cell_type": "code",
   "execution_count": 24,
   "metadata": {},
   "outputs": [
    {
     "data": {
      "text/plain": [
       "[12, 24, 36, 48, 60, 72, 84, 96, 108, 120]"
      ]
     },
     "execution_count": 24,
     "metadata": {},
     "output_type": "execute_result"
    }
   ],
   "source": [
    "list_of_multiples(12, 10)"
   ]
  },
  {
   "cell_type": "code",
   "execution_count": 35,
   "metadata": {},
   "outputs": [
    {
     "name": "stdout",
     "output_type": "stream",
     "text": [
      "John\n",
      "Frollie\n",
      "John Frollie\n",
      "J.F\n"
     ]
    }
   ],
   "source": [
    "class Name:\n",
    "  def __init__(mysillyobject, Fname, Lname):\n",
    "    mysillyobject.Fname = Fname\n",
    "    mysillyobject.Lname = Lname\n",
    "     \n",
    "  def fname(abc):\n",
    "    print( abc.Fname.capitalize())\n",
    "  def lname(abc):\n",
    "    print( abc.Lname.capitalize())\n",
    "  def fullname(abc):\n",
    "    print( abc.Fname.capitalize() + \" \" +abc.Lname.capitalize())\n",
    "  def initials(abc):\n",
    "    print( abc.Fname.capitalize()[0] + \".\" +abc.Lname.capitalize()[0])\n",
    "\n",
    "    #mysillyobject.fname = fname.capitalize()\n",
    "    #mysillyobject.lname = lname.capitalize()\n",
    "    #mysillyobject.fullname =fname.capitalize() + \" \" +lname.capitalize()\n",
    "    #mysillyobject.initials  =fname.capitalize()[0] + \".\" +lname.capitalize()[0]\n",
    "\n",
    "    \n",
    "    \n",
    "    \n",
    "p1 = Name(\"john\", \"fRolliE\")\n",
    "p1.fname()\n",
    "p1.lname()\n",
    "p1.fullname()\n",
    "p1.initials()"
   ]
  },
  {
   "cell_type": "code",
   "execution_count": 40,
   "metadata": {},
   "outputs": [],
   "source": [
    "class Name:\n",
    "  def __init__(mysillyobject, Fname, Lname):\n",
    "    mysillyobject.Fname = Fname\n",
    "    mysillyobject.Lname = Lname\n",
    "     \n",
    "  def fname(abc):\n",
    "    return abc.Fname.capitalize()\n",
    "  def lname(abc):\n",
    "    return abc.Lname.capitalize()\n",
    "  def fullname(abc):\n",
    "    return abc.Fname.capitalize() + \" \" +abc.Lname.capitalize()\n",
    "  def initials(abc):\n",
    "    return abc.Fname.capitalize()[0] + \".\" +abc.Lname.capitalize()[0]"
   ]
  },
  {
   "cell_type": "code",
   "execution_count": 41,
   "metadata": {},
   "outputs": [
    {
     "data": {
      "text/plain": [
       "'S.F'"
      ]
     },
     "execution_count": 41,
     "metadata": {},
     "output_type": "execute_result"
    }
   ],
   "source": [
    "a2 = Name('sARah', 'fRolliE')\n",
    "a2.fname()\n",
    "a2.lname()\n",
    "a2.fullname()\n",
    "a2.initials()"
   ]
  },
  {
   "cell_type": "code",
   "execution_count": 42,
   "metadata": {},
   "outputs": [],
   "source": [
    "class Name:\n",
    "    \n",
    "    def __init__(self, a, b):\n",
    "        self.fname = a.lower().capitalize()\n",
    "        self.lname = b.lower().capitalize()\n",
    "        self.fullname = self.fname + \" \" + self.lname\n",
    "        self.initials = self.fname[0] + \".\" + self.lname[0]"
   ]
  },
  {
   "cell_type": "code",
   "execution_count": 44,
   "metadata": {},
   "outputs": [
    {
     "data": {
      "text/plain": [
       "'The film starts at midnight.'"
      ]
     },
     "execution_count": 44,
     "metadata": {},
     "output_type": "execute_result"
    }
   ],
   "source": [
    "s = \"The film   starts       at      midnight. \"\n",
    "\" \".join(s.split())"
   ]
  },
  {
   "cell_type": "code",
   "execution_count": 47,
   "metadata": {},
   "outputs": [
    {
     "data": {
      "text/plain": [
       "[1, 2, 3, 40]"
      ]
     },
     "execution_count": 47,
     "metadata": {},
     "output_type": "execute_result"
    }
   ],
   "source": [
    "l=[]\n",
    "i=1\n",
    "while(i<5):\n",
    "    if i%4==0 :\n",
    "        l.append(i*10)\n",
    "    else:\n",
    "        l.append(i)\n",
    "    i+=1\n",
    "l"
   ]
  },
  {
   "cell_type": "code",
   "execution_count": 51,
   "metadata": {},
   "outputs": [],
   "source": [
    "def amplify(num):\n",
    "\tl=[]\n",
    "\ti=1\n",
    "\twhile(i<num+1):\n",
    "\t\tif i%4==0 :\n",
    "\t\t\tl.append(i*10)\n",
    "\t\telse:\n",
    "\t\t\tl.append(i)\n",
    "\t\ti+=1\n",
    "\treturn l"
   ]
  },
  {
   "cell_type": "code",
   "execution_count": 54,
   "metadata": {},
   "outputs": [],
   "source": [
    "def amplify2(num):\n",
    "\treturn [x*10 if x%4==0 else x for x in range(1,num+1)]"
   ]
  },
  {
   "cell_type": "code",
   "execution_count": 71,
   "metadata": {},
   "outputs": [],
   "source": [
    "def halve_count(a,b):\n",
    "    count = 0\n",
    "    while a > 1:\n",
    "        a = a / 2\n",
    "        if a>b:\n",
    "            count += 1\n",
    "    return count"
   ]
  },
  {
   "cell_type": "code",
   "execution_count": 72,
   "metadata": {},
   "outputs": [
    {
     "data": {
      "text/plain": [
       "11"
      ]
     },
     "execution_count": 72,
     "metadata": {},
     "output_type": "execute_result"
    }
   ],
   "source": [
    "halve_count(8845, 4)"
   ]
  },
  {
   "cell_type": "code",
   "execution_count": 73,
   "metadata": {},
   "outputs": [
    {
     "data": {
      "text/plain": [
       "9"
      ]
     },
     "execution_count": 73,
     "metadata": {},
     "output_type": "execute_result"
    }
   ],
   "source": [
    "halve_count(7085, 10)"
   ]
  },
  {
   "cell_type": "code",
   "execution_count": null,
   "metadata": {},
   "outputs": [],
   "source": []
  }
 ],
 "metadata": {
  "kernelspec": {
   "display_name": "Python 3",
   "language": "python",
   "name": "python3"
  },
  "language_info": {
   "codemirror_mode": {
    "name": "ipython",
    "version": 3
   },
   "file_extension": ".py",
   "mimetype": "text/x-python",
   "name": "python",
   "nbconvert_exporter": "python",
   "pygments_lexer": "ipython3",
   "version": "3.7.6"
  }
 },
 "nbformat": 4,
 "nbformat_minor": 4
}
