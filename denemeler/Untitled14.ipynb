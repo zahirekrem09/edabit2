{
 "cells": [
  {
   "cell_type": "code",
   "execution_count": 11,
   "metadata": {},
   "outputs": [],
   "source": [
    "def is_repdigit(num):\n",
    "    s=str(num)\n",
    "    c=s.count(s[0])\n",
    "    if num < 0 :\n",
    "        return False\n",
    "    if c==len(s):\n",
    "        return True\n",
    "    else:\n",
    "        return False"
   ]
  },
  {
   "cell_type": "code",
   "execution_count": 12,
   "metadata": {},
   "outputs": [
    {
     "data": {
      "text/plain": [
       "True"
      ]
     },
     "execution_count": 12,
     "metadata": {},
     "output_type": "execute_result"
    }
   ],
   "source": [
    "is_repdigit(6666)"
   ]
  },
  {
   "cell_type": "code",
   "execution_count": null,
   "metadata": {},
   "outputs": [],
   "source": [
    "def is_repdigit(num):\n",
    "    s=str(num)\n",
    "    c=s.count(s[0])\n",
    "    if num < 0 :\n",
    "        return False\n",
    "    if c==len(s):\n",
    "        return True\n",
    "    else:\n",
    "        return False"
   ]
  },
  {
   "cell_type": "code",
   "execution_count": 15,
   "metadata": {},
   "outputs": [],
   "source": [
    "def find_factors(num):\n",
    "\tc=0\n",
    "\tfor i in range(1,num+1):\n",
    "\t\tif num%i==0:\n",
    "\t\t\tc+=1\n",
    "\treturn c"
   ]
  },
  {
   "cell_type": "code",
   "execution_count": 17,
   "metadata": {},
   "outputs": [
    {
     "data": {
      "text/plain": [
       "9"
      ]
     },
     "execution_count": 17,
     "metadata": {},
     "output_type": "execute_result"
    }
   ],
   "source": [
    "find_factors(100)"
   ]
  },
  {
   "cell_type": "code",
   "execution_count": 18,
   "metadata": {},
   "outputs": [],
   "source": [
    "def find_factors(num):\n",
    "\treturn len([x for x in range(1, num+1) if num%x == 0])"
   ]
  },
  {
   "cell_type": "code",
   "execution_count": 25,
   "metadata": {},
   "outputs": [],
   "source": [
    "def lines_are_parallel(l1, l2):\n",
    "\treturn (-l1[0]/l2[1])==(-l2[0]/l2[1])"
   ]
  },
  {
   "cell_type": "code",
   "execution_count": 26,
   "metadata": {},
   "outputs": [
    {
     "data": {
      "text/plain": [
       "True"
      ]
     },
     "execution_count": 26,
     "metadata": {},
     "output_type": "execute_result"
    }
   ],
   "source": [
    "lines_are_parallel([1,2,3], [1,2,4])"
   ]
  },
  {
   "cell_type": "code",
   "execution_count": 27,
   "metadata": {},
   "outputs": [
    {
     "data": {
      "text/plain": [
       "False"
      ]
     },
     "execution_count": 27,
     "metadata": {},
     "output_type": "execute_result"
    }
   ],
   "source": [
    "lines_are_parallel([800,20,0], [40,20,0])"
   ]
  },
  {
   "cell_type": "code",
   "execution_count": 28,
   "metadata": {},
   "outputs": [
    {
     "data": {
      "text/plain": [
       "False"
      ]
     },
     "execution_count": 28,
     "metadata": {},
     "output_type": "execute_result"
    }
   ],
   "source": [
    "lines_are_parallel([2,5,0], [-200,-500,10])"
   ]
  },
  {
   "cell_type": "code",
   "execution_count": 38,
   "metadata": {},
   "outputs": [],
   "source": [
    "def lines_are_parallel(l1, l2):\n",
    "\treturn l1[0]/(-l1[1]) == l2[0]/(-l2[1])"
   ]
  },
  {
   "cell_type": "code",
   "execution_count": 39,
   "metadata": {},
   "outputs": [
    {
     "data": {
      "text/plain": [
       "True"
      ]
     },
     "execution_count": 39,
     "metadata": {},
     "output_type": "execute_result"
    }
   ],
   "source": [
    "lines_are_parallel([2,5,0], [-200,-500,10])"
   ]
  },
  {
   "cell_type": "code",
   "execution_count": 41,
   "metadata": {},
   "outputs": [
    {
     "name": "stdout",
     "output_type": "stream",
     "text": [
      "36\n"
     ]
    }
   ],
   "source": [
    "List1 = [[10,-13,17],[3,5,1],[13,11,12]]\n",
    "\n",
    "num = 50\n",
    "for i in List1[0]:num -= i\n",
    "print(num)"
   ]
  },
  {
   "cell_type": "code",
   "execution_count": 45,
   "metadata": {},
   "outputs": [
    {
     "data": {
      "text/plain": [
       "10"
      ]
     },
     "execution_count": 45,
     "metadata": {},
     "output_type": "execute_result"
    }
   ],
   "source": [
    "l=[[1, 0, 1, 0],\n",
    " [0, 2, 0, 2],\n",
    " [3, 0, 3, 0],\n",
    " [0, 4, 0, 4]]\n",
    "\n",
    "liste2 = [x for i in l for x in i] \n",
    "c=0\n",
    "\n",
    "for i in list(range(0,16,5)):\n",
    "    c+=liste2[i]\n",
    "c"
   ]
  },
  {
   "cell_type": "code",
   "execution_count": 44,
   "metadata": {},
   "outputs": [
    {
     "data": {
      "text/plain": [
       "[0, 5, 10, 15]"
      ]
     },
     "execution_count": 44,
     "metadata": {},
     "output_type": "execute_result"
    }
   ],
   "source": [
    "list(range(0,16,5))"
   ]
  },
  {
   "cell_type": "code",
   "execution_count": 46,
   "metadata": {},
   "outputs": [
    {
     "data": {
      "text/plain": [
       "10"
      ]
     },
     "execution_count": 46,
     "metadata": {},
     "output_type": "execute_result"
    }
   ],
   "source": [
    "l=[[1, 0, 1, 0],\n",
    " [0, 2, 0, 2],\n",
    " [3, 0, 3, 0],\n",
    " [0, 4, 0, 4]]\n",
    "\n",
    "c=0\n",
    "\n",
    "for i in list(range(0,16,5)):\n",
    "    c+=[x for i in l for x in i] [i]\n",
    "c"
   ]
  },
  {
   "cell_type": "code",
   "execution_count": 52,
   "metadata": {},
   "outputs": [],
   "source": [
    "def trace(arr):\n",
    "\tc=0\n",
    "\tlst=[x for i in arr for x in i]\n",
    "\tfor i in list(range(0,len(lst),len(arr)+1)):\n",
    "\t\tc+=lst[i]\n",
    "\treturn c"
   ]
  },
  {
   "cell_type": "code",
   "execution_count": 53,
   "metadata": {},
   "outputs": [
    {
     "data": {
      "text/plain": [
       "15"
      ]
     },
     "execution_count": 53,
     "metadata": {},
     "output_type": "execute_result"
    }
   ],
   "source": [
    "trace(\n",
    "\t[[1, 2, 3],\n",
    "\t [4, 5, 6],\n",
    "\t [7, 8, 9]]\n",
    ")"
   ]
  },
  {
   "cell_type": "code",
   "execution_count": 62,
   "metadata": {},
   "outputs": [],
   "source": [
    "GUEST_LIST = {\n",
    "\"Randy\": \"Germany\",\n",
    "\"Karla\": \"France\",\n",
    "\"Wendy\": \"Japan\",\n",
    "\"Norman\": \"England\",\n",
    "\"Sam\": \"Argentina\"\n",
    "}\n",
    "GUEST_LIST.get('www')\n"
   ]
  },
  {
   "cell_type": "code",
   "execution_count": 66,
   "metadata": {},
   "outputs": [],
   "source": [
    "GUEST_LIST = {\n",
    "\t\"Randy\": \"Germany\", \n",
    "\t\"Karla\": \"France\", \n",
    "\t\"Wendy\": \"Japan\", \n",
    "\t\"Norman\": \"England\", \n",
    "\t\"Sam\": \"Argentina\"\n",
    "}\n",
    "\n",
    "def greeting(name):\n",
    "    k = GUEST_LIST.get(name)\n",
    "    if k== None:\n",
    "        return \"Hi! I'm a guest.\"\n",
    "    else:\n",
    "       \n",
    "        return \"Hi! I'm {}, and I'm from {}.\".format(name,k)"
   ]
  },
  {
   "cell_type": "code",
   "execution_count": 67,
   "metadata": {},
   "outputs": [
    {
     "data": {
      "text/plain": [
       "\"Hi! I'm a guest.\""
      ]
     },
     "execution_count": 67,
     "metadata": {},
     "output_type": "execute_result"
    }
   ],
   "source": [
    "greeting(\"rr\")"
   ]
  },
  {
   "cell_type": "code",
   "execution_count": 68,
   "metadata": {},
   "outputs": [],
   "source": [
    "GUEST_LIST = {\n",
    "\t\"Randy\": \"Germany\", \n",
    "\t\"Karla\": \"France\", \n",
    "\t\"Wendy\": \"Japan\", \n",
    "\t\"Norman\": \"England\", \n",
    "\t\"Sam\": \"Argentina\"\n",
    "}\n",
    "\n",
    "def greeting(name):\n",
    "    if GUEST_LIST.get(name)== None:\n",
    "        return \"Hi! I'm a guest.\"\n",
    "    else:\n",
    "        return \"Hi! I'm {}, and I'm from {}.\".format(name,GUEST_LIST.get(name))"
   ]
  },
  {
   "cell_type": "code",
   "execution_count": null,
   "metadata": {},
   "outputs": [],
   "source": []
  }
 ],
 "metadata": {
  "kernelspec": {
   "display_name": "Python 3",
   "language": "python",
   "name": "python3"
  },
  "language_info": {
   "codemirror_mode": {
    "name": "ipython",
    "version": 3
   },
   "file_extension": ".py",
   "mimetype": "text/x-python",
   "name": "python",
   "nbconvert_exporter": "python",
   "pygments_lexer": "ipython3",
   "version": "3.7.6"
  }
 },
 "nbformat": 4,
 "nbformat_minor": 4
}
