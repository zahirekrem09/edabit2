{
 "cells": [
  {
   "cell_type": "code",
   "execution_count": null,
   "metadata": {},
   "outputs": [],
   "source": [
    "import math\n",
    "def cannon(location,angle,distance):\n",
    "    return (round(distance*math.sin(math.radians(angle)) + location[0]) ,round(distance*math.cos(math.radians(angle)) + location[1]))"
   ]
  },
  {
   "cell_type": "code",
   "execution_count": null,
   "metadata": {},
   "outputs": [],
   "source": [
    "cannon((0,0),0,10)"
   ]
  },
  {
   "cell_type": "code",
   "execution_count": null,
   "metadata": {},
   "outputs": [],
   "source": [
    "cannon((-12,-2),193,9)"
   ]
  },
  {
   "cell_type": "code",
   "execution_count": null,
   "metadata": {},
   "outputs": [],
   "source": [
    "cannon((1,8),315,7)"
   ]
  },
  {
   "cell_type": "code",
   "execution_count": null,
   "metadata": {},
   "outputs": [],
   "source": [
    "t=math.sin(30)\n",
    "t"
   ]
  },
  {
   "cell_type": "code",
   "execution_count": null,
   "metadata": {},
   "outputs": [],
   "source": [
    "n=5\n",
    "l=[n*\"#\" for i in range(n)]\n",
    "k=1\n",
    "while(k<n-1):\n",
    "    l.pop(k)\n",
    "    l.insert(1,\"#\"+(n-2)*\" \"+\"#\")\n",
    "    k+=1\n",
    "l"
   ]
  },
  {
   "cell_type": "code",
   "execution_count": null,
   "metadata": {},
   "outputs": [],
   "source": [
    "n=5\n",
    "l=[n*\"#\" for i in range(n)]\n",
    "l.pop(1)\n",
    "l.insert(1,\"#\"+(n-2)*\" \"+\"#\")\n",
    "l"
   ]
  },
  {
   "cell_type": "code",
   "execution_count": null,
   "metadata": {},
   "outputs": [],
   "source": [
    "def makeBox(n):\n",
    "    l=[n*\"#\" for i in range(n)]\n",
    "    k=1\n",
    "    while(k<n-1):\n",
    "        l.pop(k)\n",
    "        l.insert(1,\"#\"+(n-2)*\" \"+\"#\")\n",
    "        k+=1 \n",
    "    return l"
   ]
  },
  {
   "cell_type": "code",
   "execution_count": null,
   "metadata": {},
   "outputs": [],
   "source": [
    "makeBox(5)"
   ]
  },
  {
   "cell_type": "code",
   "execution_count": null,
   "metadata": {},
   "outputs": [],
   "source": [
    "def no_duplicate_letters(phrase):\n",
    "    f=[i.count(x) for i in phrase.split(\" \") for x in i if i.count(x)>1 ]\n",
    "    if len(f)>1:\n",
    "        return False\n",
    "    else:\n",
    "        return True"
   ]
  },
  {
   "cell_type": "code",
   "execution_count": null,
   "metadata": {},
   "outputs": [],
   "source": [
    "no_duplicate_letters(\"So far, so good.\")"
   ]
  },
  {
   "cell_type": "code",
   "execution_count": null,
   "metadata": {},
   "outputs": [],
   "source": [
    "# (a,b,c) -- dimensions of the brick\n",
    "# (w,h) -- dimensions of the hole\n",
    "def does_brick_fit(a,b,c, w,h):\n",
    "\treturn a*b<=w*h or a*c<=w*h or b*c<=w*h"
   ]
  },
  {
   "cell_type": "code",
   "execution_count": null,
   "metadata": {},
   "outputs": [],
   "source": [
    "does_brick_fit(2,2,2, 1,2)"
   ]
  },
  {
   "cell_type": "code",
   "execution_count": 17,
   "metadata": {},
   "outputs": [],
   "source": [
    "def additive_persistence(n):\n",
    "\tif len(str(n))==1:\n",
    "\t\treturn 0\n",
    "\tsay =0\n",
    "\twhile len(str(n))> 1:\n",
    "\t\tsum=0\n",
    "\t\tfor i in str(n):\n",
    "\t\t\tsum+=int(i)\n",
    "\t\tsay+=1\n",
    "\t\tn=sum\n",
    "\treturn say"
   ]
  },
  {
   "cell_type": "code",
   "execution_count": 18,
   "metadata": {},
   "outputs": [
    {
     "data": {
      "text/plain": [
       "3"
      ]
     },
     "execution_count": 18,
     "metadata": {},
     "output_type": "execute_result"
    }
   ],
   "source": [
    "additive_persistence(1679583)\n",
    "# Because 6 is already "
   ]
  },
  {
   "cell_type": "code",
   "execution_count": 19,
   "metadata": {},
   "outputs": [],
   "source": [
    "def multiplicative_persistence(n):\n",
    "\tif len(str(n))==1:\n",
    "\t\treturn 0\n",
    "\tsay =0\n",
    "\twhile len(str(n))> 1:\n",
    "\t\tcarp=1\n",
    "\t\tfor i in str(n):\n",
    "\t\t\tcarp*=int(i)\n",
    "\t\tsay+=1\n",
    "\t\tn=carp\n",
    "\treturn say"
   ]
  },
  {
   "cell_type": "code",
   "execution_count": 20,
   "metadata": {},
   "outputs": [
    {
     "data": {
      "text/plain": [
       "4"
      ]
     },
     "execution_count": 20,
     "metadata": {},
     "output_type": "execute_result"
    }
   ],
   "source": [
    "multiplicative_persistence(77)"
   ]
  },
  {
   "cell_type": "code",
   "execution_count": 42,
   "metadata": {},
   "outputs": [],
   "source": [
    "def sum_dig_prod(*args):\n",
    "\ts=sum(args)\n",
    "\twhile len(str(s))> 1:\n",
    "\t\tcarp=1\n",
    "\t\tfor i in str(s):\n",
    "\t\t\tcarp*=int(i)\n",
    "\t\ts=carp\n",
    "\treturn s"
   ]
  },
  {
   "cell_type": "code",
   "execution_count": 43,
   "metadata": {},
   "outputs": [
    {
     "data": {
      "text/plain": [
       "2"
      ]
     },
     "execution_count": 43,
     "metadata": {},
     "output_type": "execute_result"
    }
   ],
   "source": [
    "sum_dig_prod(1, 2, 3, 4, 5, 6)"
   ]
  },
  {
   "cell_type": "code",
   "execution_count": 40,
   "metadata": {},
   "outputs": [],
   "source": [
    "def sum_dig_prod1(*args):\n",
    "\ts=0\n",
    "\tfor i in args:\n",
    "\t\ts+=i\n",
    "\treturn s"
   ]
  },
  {
   "cell_type": "code",
   "execution_count": 41,
   "metadata": {},
   "outputs": [
    {
     "data": {
      "text/plain": [
       "44"
      ]
     },
     "execution_count": 41,
     "metadata": {},
     "output_type": "execute_result"
    }
   ],
   "source": [
    "sum_dig_prod1(16, 28)"
   ]
  },
  {
   "cell_type": "code",
   "execution_count": 44,
   "metadata": {},
   "outputs": [],
   "source": [
    "def split(txt):\n",
    "    s=\"\"\n",
    "    l=[]\n",
    "    for i in txt:\n",
    "        s+=i\n",
    "        if s.count(\"(\")==s.count(\")\"):\n",
    "            l.append(s)\n",
    "            s=\"\"\n",
    "    return l"
   ]
  },
  {
   "cell_type": "code",
   "execution_count": 51,
   "metadata": {},
   "outputs": [
    {
     "data": {
      "text/plain": [
       "['((()))', '(())', '()', '()', '(()())']"
      ]
     },
     "execution_count": 51,
     "metadata": {},
     "output_type": "execute_result"
    }
   ],
   "source": [
    "split(\"((()))(())()()(()())\")"
   ]
  },
  {
   "cell_type": "code",
   "execution_count": 48,
   "metadata": {},
   "outputs": [],
   "source": [
    "def split1(txt):\n",
    "    s=\"\"\n",
    "    l=[]\n",
    "    for i in txt:\n",
    "        s+=i\n",
    "        print(s)\n",
    "        #if s.count(\"(\")==s.count(\")\"):\n",
    "            #l.append(s)\n",
    "            #s=\"\"\n",
    "    return s"
   ]
  },
  {
   "cell_type": "code",
   "execution_count": 50,
   "metadata": {},
   "outputs": [
    {
     "name": "stdout",
     "output_type": "stream",
     "text": [
      "(\n",
      "((\n",
      "(((\n",
      "((()\n",
      "((())\n",
      "((()))\n",
      "((()))(\n",
      "((()))((\n",
      "((()))(()\n",
      "((()))(())\n",
      "((()))(())(\n",
      "((()))(())()\n",
      "((()))(())()(\n",
      "((()))(())()()\n",
      "((()))(())()()(\n",
      "((()))(())()()((\n",
      "((()))(())()()(()\n",
      "((()))(())()()(()(\n",
      "((()))(())()()(()()\n",
      "((()))(())()()(()())\n"
     ]
    },
    {
     "data": {
      "text/plain": [
       "'((()))(())()()(()())'"
      ]
     },
     "execution_count": 50,
     "metadata": {},
     "output_type": "execute_result"
    }
   ],
   "source": [
    "split1(\"((()))(())()()(()())\")"
   ]
  },
  {
   "cell_type": "code",
   "execution_count": 57,
   "metadata": {},
   "outputs": [],
   "source": [
    "def can_see_stage(seats):\n",
    "    #blst=[j for i in seats for j in i]\n",
    "    for i in range(len(seats[0])):\n",
    "        for j in range(1,len(seats)):\n",
    "            if seats[j][i]<= seats[j-1][i]:\n",
    "                return False\n",
    "    return True"
   ]
  },
  {
   "cell_type": "code",
   "execution_count": 59,
   "metadata": {},
   "outputs": [
    {
     "data": {
      "text/plain": [
       "True"
      ]
     },
     "execution_count": 59,
     "metadata": {},
     "output_type": "execute_result"
    }
   ],
   "source": [
    "can_see_stage([\n",
    "  [1, 2, 3],\n",
    "  [4, 5, 6],\n",
    "  [7, 8, 9]\n",
    "])"
   ]
  },
  {
   "cell_type": "code",
   "execution_count": 71,
   "metadata": {},
   "outputs": [],
   "source": [
    "def can_see_stage2(seats):\n",
    "    blst=[j for i in seats for j in i]\n",
    "    for i in range(len(seats[0])):\n",
    "        if blst[i] >= blst[i+ len(seats[0])]:\n",
    "            return False\n",
    "    return True"
   ]
  },
  {
   "cell_type": "code",
   "execution_count": 72,
   "metadata": {},
   "outputs": [
    {
     "data": {
      "text/plain": [
       "True"
      ]
     },
     "execution_count": 72,
     "metadata": {},
     "output_type": "execute_result"
    }
   ],
   "source": [
    "can_see_stage2([\n",
    "  [1, 2, 3],\n",
    "  [4, 5, 6],\n",
    "  [7, 8, 9]\n",
    "])"
   ]
  },
  {
   "cell_type": "code",
   "execution_count": null,
   "metadata": {},
   "outputs": [],
   "source": []
  }
 ],
 "metadata": {
  "kernelspec": {
   "display_name": "Python 3",
   "language": "python",
   "name": "python3"
  },
  "language_info": {
   "codemirror_mode": {
    "name": "ipython",
    "version": 3
   },
   "file_extension": ".py",
   "mimetype": "text/x-python",
   "name": "python",
   "nbconvert_exporter": "python",
   "pygments_lexer": "ipython3",
   "version": "3.7.6"
  }
 },
 "nbformat": 4,
 "nbformat_minor": 4
}
