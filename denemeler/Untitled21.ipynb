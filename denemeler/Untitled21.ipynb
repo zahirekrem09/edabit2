{
 "cells": [
  {
   "cell_type": "code",
   "execution_count": 3,
   "metadata": {},
   "outputs": [],
   "source": [
    "def filter_primes(num):\n",
    "    def asal(n):\n",
    "        if n==0 or n==1 : return False\n",
    "        for i in range(2,n):\n",
    "            if n%i==0:return False\n",
    "        return True\n",
    "    asl=[]\n",
    "    for i in num:\n",
    "            if asal(i):\n",
    "                asl.append(i)\n",
    "    return asl"
   ]
  },
  {
   "cell_type": "code",
   "execution_count": 4,
   "metadata": {},
   "outputs": [
    {
     "data": {
      "text/plain": [
       "[7, 3, 11]"
      ]
     },
     "execution_count": 4,
     "metadata": {},
     "output_type": "execute_result"
    }
   ],
   "source": [
    "filter_primes([7, 9, 3, 9, 10, 11, 27])"
   ]
  },
  {
   "cell_type": "code",
   "execution_count": 6,
   "metadata": {},
   "outputs": [
    {
     "data": {
      "text/plain": [
       "[1009, 3, 61, 1087, 1091, 1093, 1097]"
      ]
     },
     "execution_count": 6,
     "metadata": {},
     "output_type": "execute_result"
    }
   ],
   "source": [
    "filter_primes([1009, 10, 10, 10, 3, 33, 9, 4, 1, 61, 63, 69, 1087, 1091, 1093, 1097])"
   ]
  },
  {
   "cell_type": "code",
   "execution_count": 3,
   "metadata": {},
   "outputs": [],
   "source": [
    "roman = ['M', 'CM', 'D', 'CD', 'C', 'XC', 'L', 'XL', 'X', 'IX', 'V', 'IV', 'I']\n",
    "sayi = [1000, 900, 500, 400, 100, 90, 50, 40, 10, 9, 5, 4, 1]\n",
    " \n",
    "def convert_to_roman(num):\n",
    "    romanvalue = \"\"\n",
    "    if type(num) == float:\n",
    "        integer,fractor = str(num).split('.')\n",
    "        integer = int(integer)\n",
    "        while len(fractor) > 3:\n",
    "            fra = list(fractor)\n",
    "            fra.pop()\n",
    "            fractor = \"\".join(fra)\n",
    "        fractor = int(fractor)\n",
    "        return dec2roman(integer)+'.'+dec2roman(fractor)\n",
    "    for i, d in enumerate(decimal):\n",
    "        while (num >= d):\n",
    "            num -= d\n",
    "            romanvalue += roman[i]\n",
    "    return romanvalue"
   ]
  },
  {
   "cell_type": "code",
   "execution_count": null,
   "metadata": {},
   "outputs": [],
   "source": []
  }
 ],
 "metadata": {
  "kernelspec": {
   "display_name": "Python 3",
   "language": "python",
   "name": "python3"
  },
  "language_info": {
   "codemirror_mode": {
    "name": "ipython",
    "version": 3
   },
   "file_extension": ".py",
   "mimetype": "text/x-python",
   "name": "python",
   "nbconvert_exporter": "python",
   "pygments_lexer": "ipython3",
   "version": "3.7.6"
  }
 },
 "nbformat": 4,
 "nbformat_minor": 4
}
