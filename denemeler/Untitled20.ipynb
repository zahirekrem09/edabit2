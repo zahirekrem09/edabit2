{
 "cells": [
  {
   "cell_type": "code",
   "execution_count": 7,
   "metadata": {},
   "outputs": [
    {
     "data": {
      "text/plain": [
       "100111110110110101111"
      ]
     },
     "execution_count": 7,
     "metadata": {},
     "output_type": "execute_result"
    }
   ],
   "source": [
    "t=bin(1306031)\n",
    "int(t[2:])"
   ]
  },
  {
   "cell_type": "code",
   "execution_count": 12,
   "metadata": {},
   "outputs": [],
   "source": [
    "def palindrome_type(n):\n",
    "    ns=str(n)\n",
    "    nt=bin(n)[2:]\n",
    "    if ns==ns[::-1] and nt==nt[::-1]:\n",
    "        return \"Decimal and binary.\"\n",
    "    elif ns==ns[::-1] and nt!=nt[::-1]:\n",
    "        return \"Decimal only.\"\n",
    "    elif ns!=ns[::-1] and nt==nt[::-1]:\n",
    "        return \"Binary only.\"\n",
    "    else:\n",
    "        return \"Neither!\""
   ]
  },
  {
   "cell_type": "code",
   "execution_count": 18,
   "metadata": {},
   "outputs": [
    {
     "data": {
      "text/plain": [
       "'abcd'"
      ]
     },
     "execution_count": 18,
     "metadata": {},
     "output_type": "execute_result"
    }
   ],
   "source": [
    "txt=\"abcd\"\n",
    "txt2=\"\"\n",
    "vowels=\"eeioeo\"\n",
    "s=0\n",
    "for i in txt:\n",
    "    if i==\"*\":\n",
    "        txt2+=vowels[s]\n",
    "        s+=1\n",
    "    else:\n",
    "        txt2+=i\n",
    "txt2\n",
    "    "
   ]
  },
  {
   "cell_type": "code",
   "execution_count": 26,
   "metadata": {},
   "outputs": [
    {
     "data": {
      "text/plain": [
       "9"
      ]
     },
     "execution_count": 26,
     "metadata": {},
     "output_type": "execute_result"
    }
   ],
   "source": [
    "str1 =\"a rabbit jumps joyfully\"\n",
    "str2 = \"a\"\n",
    "str3=\"j\"\n",
    "\n",
    "(str1.index(str3))\n",
    "#(str1.rfind(str2))\n",
    "#(str1.rindex(str3))"
   ]
  },
  {
   "cell_type": "code",
   "execution_count": 2,
   "metadata": {},
   "outputs": [
    {
     "name": "stdout",
     "output_type": "stream",
     "text": [
      "What is your name?  It is lancelot.\n",
      "What is your quest?  It is the holy grail.\n",
      "What is your favorite color?  It is blue.\n"
     ]
    }
   ],
   "source": [
    ">>> questions = ['name', 'quest', 'favorite color']\n",
    ">>> answers = ['lancelot', 'the holy grail', 'blue']\n",
    ">>> for q, a in zip(questions, answers):\n",
    "...     print('What is your {0}?  It is {1}.'.format(q, a))"
   ]
  },
  {
   "cell_type": "code",
   "execution_count": 14,
   "metadata": {},
   "outputs": [
    {
     "data": {
      "text/plain": [
       "{'a': 57.6, 'b': 151.2, 'c': 86.4, 'd': 36.0, 'e': 28.8}"
      ]
     },
     "execution_count": 14,
     "metadata": {},
     "output_type": "execute_result"
    }
   ],
   "source": [
    "data={ \"a\": 8, \"b\": 21, \"c\": 12, \"d\": 5, \"e\": 4 }\n",
    "\n",
    "z=dict(zip(list(data.keys()),[round(i*(360/sum(list(data.values()))),1) for i in list(data.values())]))\n",
    "z\n",
    "\n",
    "\n",
    "    \n",
    " \n"
   ]
  },
  {
   "cell_type": "code",
   "execution_count": null,
   "metadata": {},
   "outputs": [],
   "source": [
    "def ekok_bulma(sayı1,sayı2):\n",
    "    i = 2\n",
    "    ekok = 1\n",
    "    while True:\n",
    "        if (sayı1 % i == 0 and sayı2 % i == 0):\n",
    "            ekok *= i\n",
    "\n",
    "            sayı1 //= i\n",
    "            sayı2 //= i\n",
    "\n",
    "\n",
    "        elif (sayı1 % i ==  0 and sayı2 % i != 0):\n",
    "            ekok *= i\n",
    "\n",
    "            sayı1 //= i\n",
    "\n",
    "\n",
    "        elif (sayı1 % i != 0 and sayı2 % i == 0):\n",
    "            ekok *= i\n",
    "\n",
    "            sayı2 //= i\n",
    "        else:\n",
    "            i += 1\n",
    "        if (sayı1 == 1 and sayı2 == 1):\n",
    "            break\n",
    "    return ekok\n",
    "\n",
    "sayı1 = int(input(\"Sayı-1:\"))\n",
    "sayı2 = int(input(\"Sayı-2:\"))\n",
    "print(\"Ekok:\",ekok_bulma(sayı1,sayı2))"
   ]
  },
  {
   "cell_type": "code",
   "execution_count": 18,
   "metadata": {},
   "outputs": [
    {
     "name": "stdout",
     "output_type": "stream",
     "text": [
      "sayı1: 5\n",
      "sayı2: 7\n",
      "sayı3: 13\n",
      "okek 91\n"
     ]
    }
   ],
   "source": [
    "sayı1 = int(input('sayı1: '))\n",
    "sayı2 = int(input('sayı2: '))\n",
    "sayı3 = int(input('sayı3: '))\n",
    "for i in range(1,max(sayı1,sayı2,sayı3)+1):\n",
    "    okek=m*i\n",
    "    if (okek % max(sayı1,sayı2,sayı3) == 0 ):\n",
    "        print(\"okek\",okek)\n",
    "        break"
   ]
  },
  {
   "cell_type": "code",
   "execution_count": 17,
   "metadata": {},
   "outputs": [
    {
     "data": {
      "text/plain": [
       "5"
      ]
     },
     "execution_count": 17,
     "metadata": {},
     "output_type": "execute_result"
    }
   ],
   "source": [
    "max(2,3,5)"
   ]
  },
  {
   "cell_type": "code",
   "execution_count": 2,
   "metadata": {},
   "outputs": [
    {
     "name": "stdout",
     "output_type": "stream",
     "text": [
      "455\n"
     ]
    }
   ],
   "source": [
    "def find_lcm(num1, num2): \n",
    "    if(num1>num2): \n",
    "        num = num1 \n",
    "        den = num2 \n",
    "    else: \n",
    "        num = num2 \n",
    "        den = num1 \n",
    "    rem = num % den \n",
    "    while(rem != 0): \n",
    "        num = den \n",
    "        den = rem \n",
    "        rem = num % den \n",
    "    gcd = den \n",
    "    lcm = int(int(num1 * num2)/int(gcd)) \n",
    "    return lcm \n",
    "\n",
    "l = [5, 7,13] \n",
    "  \n",
    "num1 = l[0] num[]\n",
    "num2 = l[1] \n",
    "lcm = find_lcm(num1, num2) \n",
    "lcm2 = find_lcm(lcm, l[2]) \n",
    "      \n",
    "print(lcm2)"
   ]
  },
  {
   "cell_type": "code",
   "execution_count": 4,
   "metadata": {},
   "outputs": [],
   "source": [
    "def lcm_three(l):\n",
    "    def lcm_two(num1, num2):\n",
    "        if(num1>num2): \n",
    "            num = num1 \n",
    "            den = num2 \n",
    "        else: \n",
    "            num = num2 \n",
    "            den = num1 \n",
    "        rem = num % den \n",
    "        while(rem != 0): \n",
    "            num = den \n",
    "            den = rem \n",
    "            rem = num % den \n",
    "        gcd = den \n",
    "        lcm = int(int(num1 * num2)/int(gcd)) \n",
    "        return lcm\n",
    "    lcm=lcm_two(l[0],l[1])\n",
    "    return lcm_two(lcm,l[2])\n"
   ]
  },
  {
   "cell_type": "code",
   "execution_count": 5,
   "metadata": {},
   "outputs": [
    {
     "data": {
      "text/plain": [
       "3007291"
      ]
     },
     "execution_count": 5,
     "metadata": {},
     "output_type": "execute_result"
    }
   ],
   "source": [
    "lcm_three([97, 103, 301])"
   ]
  },
  {
   "cell_type": "code",
   "execution_count": 7,
   "metadata": {},
   "outputs": [],
   "source": [
    "def lcm_three2(num):\n",
    "    for i in range(1, num[0]*num[1]*num[2]+1):\n",
    "        if i % num[0] == 0 and i % num[1] == 0 and i % num[2] == 0:\n",
    "            return i"
   ]
  },
  {
   "cell_type": "code",
   "execution_count": 8,
   "metadata": {},
   "outputs": [
    {
     "data": {
      "text/plain": [
       "3007291"
      ]
     },
     "execution_count": 8,
     "metadata": {},
     "output_type": "execute_result"
    }
   ],
   "source": [
    "lcm_three([97, 103, 301])"
   ]
  },
  {
   "cell_type": "code",
   "execution_count": 9,
   "metadata": {},
   "outputs": [],
   "source": [
    "def majority_vote(nums): \n",
    "      \n",
    "    # stores the key count  \n",
    "    key, count = None, 0\n",
    "      \n",
    "    # iterate in the array  \n",
    "    for num in nums: \n",
    "          \n",
    "        # key is 0 \n",
    "        if key is None: \n",
    "            key, count = num, 1\n",
    "        else: \n",
    "            if key == num: \n",
    "                count += 1\n",
    "            else: \n",
    "                count -= 1\n",
    "  \n",
    "        if count == 0: \n",
    "            key = None\n",
    "  \n",
    "    return key"
   ]
  },
  {
   "cell_type": "code",
   "execution_count": 10,
   "metadata": {},
   "outputs": [
    {
     "data": {
      "text/plain": [
       "'A'"
      ]
     },
     "execution_count": 10,
     "metadata": {},
     "output_type": "execute_result"
    }
   ],
   "source": [
    "majority_vote([\"A\", \"A\", \"A\", \"B\", \"C\", \"A\"])"
   ]
  },
  {
   "cell_type": "code",
   "execution_count": 11,
   "metadata": {},
   "outputs": [
    {
     "data": {
      "text/plain": [
       "'C'"
      ]
     },
     "execution_count": 11,
     "metadata": {},
     "output_type": "execute_result"
    }
   ],
   "source": [
    "majority_vote([\"A\", \"B\", \"B\", \"A\", \"C\", \"C\"])"
   ]
  },
  {
   "cell_type": "code",
   "execution_count": 20,
   "metadata": {},
   "outputs": [],
   "source": [
    "def majority_vote(arr): \n",
    "\tm = {} \n",
    "\tfor i in range(len(arr)): \n",
    "\t\tif arr[i] in m: \n",
    "\t\t\tm[arr[i]] += 1\n",
    "\t\telse: \n",
    "\t\t\tm[arr[i]] = 1\n",
    "\tcount = 0\n",
    "\tfor key in m: \n",
    "\t\tif m[key] > len(arr) / 2: \n",
    "\t\t\tcount = 1\n",
    "\t\t\treturn key\n",
    "\t\t\tbreak\n",
    "\tif(count == 0): \n",
    "\t\treturn None"
   ]
  },
  {
   "cell_type": "code",
   "execution_count": 19,
   "metadata": {},
   "outputs": [],
   "source": [
    "def majority_vote(lst):\n",
    "    for i in lst:\n",
    "        if lst.count(i) > len(lst)/2:\n",
    "            return i"
   ]
  },
  {
   "cell_type": "code",
   "execution_count": 22,
   "metadata": {},
   "outputs": [
    {
     "name": "stdout",
     "output_type": "stream",
     "text": [
      "The chosen place is 19\n"
     ]
    }
   ],
   "source": [
    "# Python3 program to find solution of  \n",
    "# Josephus problem when size of step is 2. \n",
    "  \n",
    "# Returns position of survivor among a \n",
    "# circle of n persons and every second \n",
    "# person being killed \n",
    "def josephus(n): \n",
    "      \n",
    "    # Find value of 2 ^ (1 + floor(Log n)) \n",
    "    # which is a power of 2 whose value \n",
    "    # is just above n. \n",
    "    p = 1\n",
    "    while p <= n: \n",
    "        p *= 2\n",
    "  \n",
    "    # Return 2n - 2^(1 + floor(Logn)) + 1 \n",
    "    return (2 * n) - p + 1\n",
    "  \n",
    "# Driver Code \n",
    "n = 41\n",
    "print (\"The chosen place is\", josephus(n)) \n",
    "  \n",
    "# This code is contributed by Shreyanshi Arun. "
   ]
  },
  {
   "cell_type": "code",
   "execution_count": 9,
   "metadata": {},
   "outputs": [
    {
     "data": {
      "text/plain": [
       "'3'"
      ]
     },
     "execution_count": 9,
     "metadata": {},
     "output_type": "execute_result"
    }
   ],
   "source": [
    "r=\"1313\"\n",
    "r[3:4]"
   ]
  },
  {
   "cell_type": "code",
   "execution_count": 5,
   "metadata": {},
   "outputs": [],
   "source": [
    "def asal(n):\n",
    "    if n==0 or n==1 : return False\n",
    "    for i in range(2,n):\n",
    "        if n%i==0:return False\n",
    "    return True\n",
    "        \n",
    "    "
   ]
  },
  {
   "cell_type": "code",
   "execution_count": 6,
   "metadata": {},
   "outputs": [
    {
     "data": {
      "text/plain": [
       "True"
      ]
     },
     "execution_count": 6,
     "metadata": {},
     "output_type": "execute_result"
    }
   ],
   "source": [
    "asal(5)"
   ]
  },
  {
   "cell_type": "code",
   "execution_count": 13,
   "metadata": {},
   "outputs": [
    {
     "data": {
      "text/plain": [
       "[13, 131, 3, 31, 313, 13, 3]"
      ]
     },
     "execution_count": 13,
     "metadata": {},
     "output_type": "execute_result"
    }
   ],
   "source": [
    "def asal(n):\n",
    "    if n==0 or n==1 : return False\n",
    "    for i in range(2,n):\n",
    "        if n%i==0:return False\n",
    "    return True\n",
    "\n",
    "n=1313\n",
    "nn=str(n)\n",
    "asl=[]\n",
    "#if n==0 or n==1 : return []\n",
    "for i in range(len(nn)):\n",
    "    for j in range(i,len(nn)):\n",
    "                   #if nn[i:j+1]==\"0\" or nn[i:j+1]==\"1\":continue\n",
    "                   if asal(int(nn[i:j+1])):\n",
    "                       asl.append(int(nn[i:j+1]))\n",
    "asl\n",
    "                   \n",
    "                   "
   ]
  },
  {
   "cell_type": "code",
   "execution_count": 24,
   "metadata": {},
   "outputs": [],
   "source": [
    "def extract_primes(num):\n",
    "    def asal(n):\n",
    "        if n==0 or n==1 : return False\n",
    "        for i in range(2,n):\n",
    "            if n%i==0:return False\n",
    "        return True\n",
    "    asl=[]\n",
    "    if num==0 or num==1:return []\n",
    "    for i in range(len(str(num))):\n",
    "        for j in range(i,len(str(num))):\n",
    "            if asal(int(str(num)[i:j+1])) and str(num)[i:j+1][0]!=\"0\":\n",
    "                asl.append(int(str(num)[i:j+1]))\n",
    "    return sorted(asl)"
   ]
  },
  {
   "cell_type": "code",
   "execution_count": 25,
   "metadata": {},
   "outputs": [
    {
     "data": {
      "text/plain": [
       "[2, 3, 23]"
      ]
     },
     "execution_count": 25,
     "metadata": {},
     "output_type": "execute_result"
    }
   ],
   "source": [
    "extract_primes(10234)"
   ]
  },
  {
   "cell_type": "code",
   "execution_count": 34,
   "metadata": {},
   "outputs": [
    {
     "data": {
      "text/plain": [
       "5"
      ]
     },
     "execution_count": 34,
     "metadata": {},
     "output_type": "execute_result"
    }
   ],
   "source": [
    "odd=[20, 1, -1, 2, -2, 3, 3, 5, 5, 1, 2, 4, 20, 4, -1, -2, 5]\n",
    "odd2=[i for i in odd if odd.count(i)%2!=0][0]\n",
    "odd2"
   ]
  },
  {
   "cell_type": "code",
   "execution_count": null,
   "metadata": {},
   "outputs": [],
   "source": []
  }
 ],
 "metadata": {
  "kernelspec": {
   "display_name": "Python 3",
   "language": "python",
   "name": "python3"
  },
  "language_info": {
   "codemirror_mode": {
    "name": "ipython",
    "version": 3
   },
   "file_extension": ".py",
   "mimetype": "text/x-python",
   "name": "python",
   "nbconvert_exporter": "python",
   "pygments_lexer": "ipython3",
   "version": "3.7.6"
  }
 },
 "nbformat": 4,
 "nbformat_minor": 4
}
