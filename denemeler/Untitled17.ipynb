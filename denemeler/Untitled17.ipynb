{
 "cells": [
  {
   "cell_type": "code",
   "execution_count": 21,
   "metadata": {},
   "outputs": [
    {
     "data": {
      "text/plain": [
       "False"
      ]
     },
     "execution_count": 21,
     "metadata": {},
     "output_type": "execute_result"
    }
   ],
   "source": [
    "n=6025\n",
    "n==(n*n) % 10**(len(list(str(n))))\n"
   ]
  },
  {
   "cell_type": "code",
   "execution_count": 61,
   "metadata": {},
   "outputs": [],
   "source": [
    "def i_sqrt(n):\n",
    "\ts=1\n",
    "\tif n<0:\n",
    "\t\treturn \"invalid\"\n",
    "\telif n<2:\n",
    "\t\treturn 0\n",
    "\telse:\n",
    "\t\ti=1\n",
    "\t\twhile(i<n+3):\n",
    "\t\t\tif n**0.5>=2:\n",
    "\t\t\t\ts+=1\n",
    "\t\t\tn=n**0.5\n",
    "\t\t\ti+=1\n",
    "\t\treturn s"
   ]
  },
  {
   "cell_type": "code",
   "execution_count": 62,
   "metadata": {},
   "outputs": [
    {
     "data": {
      "text/plain": [
       "7"
      ]
     },
     "execution_count": 62,
     "metadata": {},
     "output_type": "execute_result"
    }
   ],
   "source": [
    "i_sqrt(18446744073709551616)"
   ]
  },
  {
   "cell_type": "code",
   "execution_count": 63,
   "metadata": {},
   "outputs": [],
   "source": [
    "def i_sqrt2(n):\n",
    "\tx = 0\n",
    "\tif n < 0: return \"invalid\"\n",
    "\twhile n >= 2: n = n ** 0.5; x += 1\n",
    "\treturn x"
   ]
  },
  {
   "cell_type": "code",
   "execution_count": 66,
   "metadata": {},
   "outputs": [
    {
     "data": {
      "text/plain": [
       "5"
      ]
     },
     "execution_count": 66,
     "metadata": {},
     "output_type": "execute_result"
    }
   ],
   "source": [
    "gg=[\"A\", 5, 5, 2, 6, 2, 3, 8, 9, 7]\n",
    "s=0\n",
    "for i in gg:\n",
    "    if i in [2, 3, 4, 5, 6 ]:\n",
    "        s+=1\n",
    "    elif i in [10, \"J\", \"Q\", \"K\", \"A\"]:\n",
    "        s+=-1\n",
    "s\n",
    "        \n",
    "        "
   ]
  },
  {
   "cell_type": "code",
   "execution_count": 69,
   "metadata": {},
   "outputs": [
    {
     "data": {
      "text/plain": [
       "1"
      ]
     },
     "execution_count": 69,
     "metadata": {},
     "output_type": "execute_result"
    }
   ],
   "source": [
    "l=list(map(chr, range(97, 123)))\n",
    "l.index(\"b\")"
   ]
  },
  {
   "cell_type": "code",
   "execution_count": 71,
   "metadata": {},
   "outputs": [
    {
     "data": {
      "text/plain": [
       "123"
      ]
     },
     "execution_count": 71,
     "metadata": {},
     "output_type": "execute_result"
    }
   ],
   "source": [
    "msg=\"qudusayo\"\n",
    "s=0\n",
    "for i in msg:\n",
    "    s+=list(map(chr, range(97, 123))).index(i)+1\n",
    "s  "
   ]
  },
  {
   "cell_type": "code",
   "execution_count": null,
   "metadata": {},
   "outputs": [],
   "source": []
  }
 ],
 "metadata": {
  "kernelspec": {
   "display_name": "Python 3",
   "language": "python",
   "name": "python3"
  },
  "language_info": {
   "codemirror_mode": {
    "name": "ipython",
    "version": 3
   },
   "file_extension": ".py",
   "mimetype": "text/x-python",
   "name": "python",
   "nbconvert_exporter": "python",
   "pygments_lexer": "ipython3",
   "version": "3.7.6"
  }
 },
 "nbformat": 4,
 "nbformat_minor": 4
}
