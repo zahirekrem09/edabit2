{
 "cells": [
  {
   "cell_type": "code",
   "execution_count": null,
   "metadata": {},
   "outputs": [],
   "source": [
    "def power_ranger(power, minimum, maximum):\n",
    "\treturn sum(1 for i in range(minimum, maximum+1) if (i**(1/power))%1==0)\n",
    "    "
   ]
  },
  {
   "cell_type": "code",
   "execution_count": null,
   "metadata": {},
   "outputs": [],
   "source": [
    "power_ranger(3, 1, 100)"
   ]
  },
  {
   "cell_type": "code",
   "execution_count": null,
   "metadata": {},
   "outputs": [],
   "source": [
    "lst=[]\n",
    "new_lst=[]\n",
    "for i in lst:\n",
    "    if isinstance(i, list):\n",
    "        new_lst.append(i[0])\n",
    "    else:\n",
    "        new_lst.append([i])\n",
    "new_lst \n",
    "        "
   ]
  },
  {
   "cell_type": "code",
   "execution_count": null,
   "metadata": {},
   "outputs": [],
   "source": [
    "import math  as m\n",
    "#m.factorial(5)\n",
    "def kempner(n):\n",
    "    i=1\n",
    "    while(i<=n):\n",
    "        if m.factorial(i)%n==0:\n",
    "            return i\n",
    "            break\n",
    "        i+=1"
   ]
  },
  {
   "cell_type": "code",
   "execution_count": null,
   "metadata": {},
   "outputs": [],
   "source": [
    "kempner(21)"
   ]
  },
  {
   "cell_type": "code",
   "execution_count": null,
   "metadata": {},
   "outputs": [],
   "source": [
    "kempner(71)"
   ]
  },
  {
   "cell_type": "code",
   "execution_count": null,
   "metadata": {},
   "outputs": [],
   "source": [
    "def count_palindromes(num1, num2):\n",
    "    l=[]\n",
    "    for i in range(num1,num2+1):\n",
    "        if str(i)==str(i)[::-1]:\n",
    "            l.append(i)\n",
    "    return len(l)"
   ]
  },
  {
   "cell_type": "code",
   "execution_count": null,
   "metadata": {},
   "outputs": [],
   "source": [
    "count_palindromes(1, 10)"
   ]
  },
  {
   "cell_type": "code",
   "execution_count": null,
   "metadata": {},
   "outputs": [],
   "source": [
    "count_palindromes(1550, 1556)"
   ]
  },
  {
   "cell_type": "code",
   "execution_count": null,
   "metadata": {},
   "outputs": [],
   "source": [
    "def apocalyptic(n):\n",
    "\tif str(2**n).find(\"666\")!=-1:\n",
    "\t\treturn  \"Repent! %s days until the Apocalypse!\" % (str(2**n).find(\"666\"))\n",
    "\telse:\n",
    "\t\treturn \"Crisis averted. Resume sinning.\""
   ]
  },
  {
   "cell_type": "code",
   "execution_count": null,
   "metadata": {},
   "outputs": [],
   "source": [
    "apocalyptic(157)"
   ]
  },
  {
   "cell_type": "code",
   "execution_count": null,
   "metadata": {},
   "outputs": [],
   "source": [
    "def makeBox(n):\n",
    "    l=[n*\"#\" for i in range(n)]\n",
    "    k=1\n",
    "    while(k<n-1):\n",
    "        l.pop(k)\n",
    "        l.insert(1,\"#\"+(n-2)*\" \"+\"#\")\n",
    "        k+=1 \n",
    "    return l"
   ]
  },
  {
   "cell_type": "code",
   "execution_count": null,
   "metadata": {},
   "outputs": [],
   "source": [
    "def get_frame(w, h, ch):\n",
    "    if (w<=2 or h<=2):\n",
    "        return \"invalid\"\n",
    "    else:\n",
    "        l=[[w*ch] for i in range(h)]\n",
    "        for k in range(1,h-1):\n",
    "            l.pop(k)\n",
    "            l.insert(1,[ch+(w-2)*\" \"+ch])\n",
    "        return l\n",
    "            "
   ]
  },
  {
   "cell_type": "code",
   "execution_count": null,
   "metadata": {},
   "outputs": [],
   "source": [
    "n = int(input(\"What number should I go up to? \"))\n",
    "p = 2\n",
    "while p <= n:\n",
    "    is_prime=True\n",
    "    for i in range(2, p):\n",
    "        if p%i == 0:\n",
    "            is_prime=False\n",
    "            break;\n",
    "    if is_prime==True:\n",
    "        print (\"%d is a Prime Number\\n\" % p)\n",
    "    p=p+1"
   ]
  },
  {
   "cell_type": "code",
   "execution_count": null,
   "metadata": {},
   "outputs": [],
   "source": [
    "instructions=[\"right 100\", \"right 100\", \"up 500\", \"up 10000\"]\n",
    "t=zip([i.split(\" \")[0] for i in instructions],[int(i.split(\" \")[1]) for i in instructions])\n",
    "r,l,u,d=0,0,0,0\n",
    "for i,j in t:\n",
    "    if i==\"right\":\n",
    "        r+=j\n",
    "    elif i==\"left\":\n",
    "        l+=j\n",
    "    elif i==\"up\":\n",
    "        u+=j\n",
    "    else:\n",
    "        d+=j\n",
    "nt=[r-l,u-d]\n",
    "nt"
   ]
  },
  {
   "cell_type": "code",
   "execution_count": null,
   "metadata": {},
   "outputs": [],
   "source": [
    "def track_robot(instructions):\n",
    "\tt=zip([i.split(\" \")[0] for i in instructions],[int(i.split(\" \")[1]) for i in instructions])\n",
    "\tr,l,u,d=0,0,0,0\n",
    "\tfor i,j in t:\n",
    "\t\tif i==\"right\":r+=j\n",
    "\t\telif i==\"left\":l+=j\n",
    "\t\telif i==\"up\":u+=j \n",
    "\t\telse:d+=j \n",
    "\treturn [r-l,u-d]"
   ]
  },
  {
   "cell_type": "code",
   "execution_count": 11,
   "metadata": {},
   "outputs": [],
   "source": [
    "from itertools import count\n",
    "def primorial(n):\n",
    "\tdef asal(n):\n",
    "\t\tif n==0 or n==1 : return False\n",
    "\t\tfor i in range(2,n):\n",
    "\t\t\tif n%i==0:return False\n",
    "\t\treturn True\n",
    "\tc=0\n",
    "\tcarp=1\n",
    "\ti=2\n",
    "\tfor i in count():\n",
    "\t\tif asal(i):\n",
    "\t\t\tc+=1\n",
    "\t\t\tcarp*=i\n",
    "\t\ti+=1\n",
    "\t\tif c==n:\n",
    "\t\t\tbreak\n",
    "\treturn carp\n",
    "            "
   ]
  },
  {
   "cell_type": "code",
   "execution_count": 15,
   "metadata": {},
   "outputs": [
    {
     "name": "stdout",
     "output_type": "stream",
     "text": [
      "2\n",
      "4\n",
      "6\n",
      "8\n",
      "10\n",
      "12\n",
      "14\n",
      "16\n",
      "18\n",
      "20\n"
     ]
    }
   ],
   "source": [
    "from itertools import count\n",
    "c=0\n",
    "f=1\n",
    "i=2\n",
    "while True:\n",
    "    if i%2==0:\n",
    "        print(i)\n",
    "        c+=1\n",
    "    if c==10:\n",
    "        break\n",
    "    i+=1"
   ]
  },
  {
   "cell_type": "code",
   "execution_count": 17,
   "metadata": {},
   "outputs": [],
   "source": [
    "#[int, str, bool, list, tuple, dict]\n",
    "def count_datatypes(*args):\n",
    "    l=[0,0,0,0,0,0]\n",
    "    for i in args:\n",
    "        if type(i)==int:\n",
    "            l[0]+=1\n",
    "        elif type(i)==str:\n",
    "            l[1]+=1\n",
    "        elif type(i)==bool:\n",
    "            l[2]+=1\n",
    "        elif type(i)==list:\n",
    "            l[3]+=1\n",
    "        elif type(i)==tuple:\n",
    "            l[4]+=1\n",
    "        else:\n",
    "            l[5]+=1\n",
    "    return l"
   ]
  },
  {
   "cell_type": "code",
   "execution_count": 18,
   "metadata": {},
   "outputs": [
    {
     "data": {
      "text/plain": [
       "[2, 1, 1, 0, 0, 0]"
      ]
     },
     "execution_count": 18,
     "metadata": {},
     "output_type": "execute_result"
    }
   ],
   "source": [
    "count_datatypes(1, 45, \"Hi\", False)"
   ]
  },
  {
   "cell_type": "code",
   "execution_count": 20,
   "metadata": {},
   "outputs": [
    {
     "data": {
      "text/plain": [
       "14"
      ]
     },
     "execution_count": 20,
     "metadata": {},
     "output_type": "execute_result"
    }
   ],
   "source": [
    "sum(range(2,6))"
   ]
  },
  {
   "cell_type": "code",
   "execution_count": 33,
   "metadata": {},
   "outputs": [],
   "source": [
    "def add_str_nums(num1, num2):\n",
    "    if num1.isnumeric() and num2.isnumeric():\n",
    "        return str(int(num1)+int(num2))\n",
    "    elif num1.isnumeric() and num1==\"\":\n",
    "            return num1\n",
    "    elif num1==\"\" and num2==\"\":\n",
    "        return \"0\"\n",
    "    else:\n",
    "        return \"-1\""
   ]
  },
  {
   "cell_type": "code",
   "execution_count": 38,
   "metadata": {},
   "outputs": [
    {
     "data": {
      "text/plain": [
       "-1"
      ]
     },
     "execution_count": 38,
     "metadata": {},
     "output_type": "execute_result"
    }
   ],
   "source": [
    "add_str_nums(\"1325123515s238579875987\", \"38698592523525325\")"
   ]
  },
  {
   "cell_type": "code",
   "execution_count": 37,
   "metadata": {},
   "outputs": [
    {
     "data": {
      "text/plain": [
       "False"
      ]
     },
     "execution_count": 37,
     "metadata": {},
     "output_type": "execute_result"
    }
   ],
   "source": [
    "\"1325123515s238579875987\".isnumeric()"
   ]
  },
  {
   "cell_type": "code",
   "execution_count": 46,
   "metadata": {},
   "outputs": [],
   "source": [
    "def add_str_nums(num1, num2):\n",
    "    if num1.isnumeric() and num2.isnumeric():\n",
    "        return str(int(num1)+int(num2))\n",
    "    elif num1.isnumeric() and num2==\"\":\n",
    "        return num1\n",
    "    elif num1==\"\" and num2==\"\":\n",
    "        return \"0\"\n",
    "    else:\n",
    "        return \"-1\""
   ]
  },
  {
   "cell_type": "code",
   "execution_count": 47,
   "metadata": {},
   "outputs": [
    {
     "data": {
      "text/plain": [
       "'1'"
      ]
     },
     "execution_count": 47,
     "metadata": {},
     "output_type": "execute_result"
    }
   ],
   "source": [
    "add_str_nums(\"1\",\"\")"
   ]
  },
  {
   "cell_type": "code",
   "execution_count": 60,
   "metadata": {},
   "outputs": [],
   "source": [
    "def convert_to_hex(txt):\n",
    "    s=\"\"\n",
    "    for i in txt:\n",
    "        s+=hex(ord(i))[-2:]+\" \"\n",
    "    return s[0:len(s)-1]"
   ]
  },
  {
   "cell_type": "code",
   "execution_count": 61,
   "metadata": {},
   "outputs": [
    {
     "data": {
      "text/plain": [
       "'42 69 67 20 42 6f 69'"
      ]
     },
     "execution_count": 61,
     "metadata": {},
     "output_type": "execute_result"
    }
   ],
   "source": [
    "convert_to_hex(\"Big Boi\")"
   ]
  },
  {
   "cell_type": "code",
   "execution_count": 72,
   "metadata": {},
   "outputs": [
    {
     "name": "stdout",
     "output_type": "stream",
     "text": [
      "66928\n"
     ]
    },
    {
     "data": {
      "text/plain": [
       "66992"
      ]
     },
     "execution_count": 72,
     "metadata": {},
     "output_type": "execute_result"
    }
   ],
   "source": [
    "n=66992\n",
    "\n",
    "l=sum([i for i in range(1,n) if n%i==0])\n",
    "print(l)\n",
    "l2=sum([i for i in range(1,l) if l%i==0])\n",
    "l2"
   ]
  },
  {
   "cell_type": "code",
   "execution_count": null,
   "metadata": {},
   "outputs": [],
   "source": []
  }
 ],
 "metadata": {
  "kernelspec": {
   "display_name": "Python 3",
   "language": "python",
   "name": "python3"
  },
  "language_info": {
   "codemirror_mode": {
    "name": "ipython",
    "version": 3
   },
   "file_extension": ".py",
   "mimetype": "text/x-python",
   "name": "python",
   "nbconvert_exporter": "python",
   "pygments_lexer": "ipython3",
   "version": "3.7.6"
  }
 },
 "nbformat": 4,
 "nbformat_minor": 4
}
