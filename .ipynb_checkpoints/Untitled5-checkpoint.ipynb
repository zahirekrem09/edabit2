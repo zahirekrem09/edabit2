{
 "cells": [
  {
   "cell_type": "code",
   "execution_count": 9,
   "metadata": {},
   "outputs": [
    {
     "name": "stdout",
     "output_type": "stream",
     "text": [
      "pap_ier44, townieBOY and 4 online\n"
     ]
    }
   ],
   "source": [
    "users=[\"pap_ier44\", \"townieBOY\", \"panda321\", \"motor_bike5\", \"sandwichmaker833\", \"violinist91\"]\n",
    "if len(users)==0:\n",
    "    print(\"no one online\")\n",
    "if len(users)==1:\n",
    "    print(\"{}  online\".format(users[0]))\n",
    "if len(users)==2:\n",
    "    print(\"{} and {} online\".format(users[0],users[1]))\n",
    "else:\n",
    "     print(\"{}, {} and {} online\".format(users[0],users[1],len(users)-2))"
   ]
  },
  {
   "cell_type": "code",
   "execution_count": 13,
   "metadata": {},
   "outputs": [],
   "source": [
    "def chatroom_status(users):\n",
    "\tif len(users)==0:\n",
    "\t\treturn \"no one online\"\n",
    "\tif len(users)==1:\n",
    "\t\treturn \"{} online\".format(users[0])\n",
    "\tif len(users)==2:\n",
    "\t\treturn \"{} and {} online\".format(users[0],users[1])\n",
    "\telse:\n",
    "\t\treturn \"{}, {} and {} online\".format(users[0],users[1],len(users)-2)"
   ]
  },
  {
   "cell_type": "code",
   "execution_count": 12,
   "metadata": {},
   "outputs": [
    {
     "data": {
      "text/plain": [
       "'pap_ier44, townieBOY and 4 online'"
      ]
     },
     "execution_count": 12,
     "metadata": {},
     "output_type": "execute_result"
    }
   ],
   "source": [
    "chatroom_status([\"pap_ier44\", \"townieBOY\", \"panda321\", \"motor_bike5\", \"sandwichmaker833\", \"violinist91\"])"
   ]
  },
  {
   "cell_type": "code",
   "execution_count": 14,
   "metadata": {},
   "outputs": [
    {
     "name": "stdout",
     "output_type": "stream",
     "text": [
      "All characters are numeric.\n"
     ]
    }
   ],
   "source": [
    "#s = '²3455'\n",
    "s = '\\u00B23455'\n",
    "\n",
    "if s.isnumeric() == True:\n",
    "  print('All characters are numeric.')\n",
    "else:\n",
    "  print('All characters are not numeric.')"
   ]
  },
  {
   "cell_type": "code",
   "execution_count": 19,
   "metadata": {},
   "outputs": [
    {
     "data": {
      "text/plain": [
       "1"
      ]
     },
     "execution_count": 19,
     "metadata": {},
     "output_type": "execute_result"
    }
   ],
   "source": [
    "num=\"U//DertHe1nflu3nC3\"\n",
    "l= int([i for i in num if i.isnumeric()][0])\n",
    "l"
   ]
  },
  {
   "cell_type": "code",
   "execution_count": 20,
   "metadata": {},
   "outputs": [],
   "source": [
    "def left_digit(num):\n",
    "\treturn int([i for i in num if i.isnumeric()][0])"
   ]
  },
  {
   "cell_type": "code",
   "execution_count": 21,
   "metadata": {},
   "outputs": [
    {
     "data": {
      "text/plain": [
       "1"
      ]
     },
     "execution_count": 21,
     "metadata": {},
     "output_type": "execute_result"
    }
   ],
   "source": [
    "left_digit(\"U//DertHe1nflu3nC3\")"
   ]
  },
  {
   "cell_type": "code",
   "execution_count": 22,
   "metadata": {},
   "outputs": [
    {
     "data": {
      "text/plain": [
       "0"
      ]
     },
     "execution_count": 22,
     "metadata": {},
     "output_type": "execute_result"
    }
   ],
   "source": [
    "left_digit(\"0nSlaUgh7*d3atH\")"
   ]
  },
  {
   "cell_type": "code",
   "execution_count": 24,
   "metadata": {},
   "outputs": [
    {
     "data": {
      "text/plain": [
       "8"
      ]
     },
     "execution_count": 24,
     "metadata": {},
     "output_type": "execute_result"
    }
   ],
   "source": [
    "left_digit(\"F8andD3st1nY\")"
   ]
  },
  {
   "cell_type": "code",
   "execution_count": 31,
   "metadata": {},
   "outputs": [
    {
     "data": {
      "text/plain": [
       "[3, 6, 12, 36]"
      ]
     },
     "execution_count": 31,
     "metadata": {},
     "output_type": "execute_result"
    }
   ],
   "source": [
    "lst=[3, 6, 12, 36]\n",
    "l=[i for i in lst if lst[len(lst)-1]%i==0]\n",
    "l"
   ]
  },
  {
   "cell_type": "code",
   "execution_count": 30,
   "metadata": {},
   "outputs": [
    {
     "name": "stdout",
     "output_type": "stream",
     "text": [
      "1\n",
      "2\n",
      "4\n",
      "5\n",
      "10\n",
      "20\n",
      "25\n",
      "50\n",
      "100\n"
     ]
    }
   ],
   "source": [
    "# Python implementation of Naive method \n",
    "# to print all divisors \n",
    "  \n",
    "# method to print the divisors \n",
    "n=100\n",
    "i = 1\n",
    "while i <= n : \n",
    "    if (n % i==0) : \n",
    "        print (i)\n",
    "    i = i + 1\n",
    "          "
   ]
  },
  {
   "cell_type": "code",
   "execution_count": 40,
   "metadata": {},
   "outputs": [
    {
     "data": {
      "text/plain": [
       "True"
      ]
     },
     "execution_count": 40,
     "metadata": {},
     "output_type": "execute_result"
    }
   ],
   "source": [
    "lst=[1, 2, 4, 8, 16, 32]\n",
    "l1=len([i for i in lst if lst[len(lst)-1]%i==0])==len(lst)\n",
    "l1"
   ]
  },
  {
   "cell_type": "code",
   "execution_count": 43,
   "metadata": {},
   "outputs": [],
   "source": [
    "def factor_chain(lst):\n",
    "\treturn len([i for i in lst if lst[len(lst)-1]%i==0])==len(lst)\n",
    "    "
   ]
  },
  {
   "cell_type": "code",
   "execution_count": 44,
   "metadata": {},
   "outputs": [
    {
     "data": {
      "text/plain": [
       "True"
      ]
     },
     "execution_count": 44,
     "metadata": {},
     "output_type": "execute_result"
    }
   ],
   "source": [
    "factor_chain([1, 1, 1, 1, 1, 1])"
   ]
  },
  {
   "cell_type": "markdown",
   "metadata": {},
   "source": [
    "\n",
    "\n",
    "Write a function that retrieves the last n elements from a list.\n",
    "\n",
    "last([1, 2, 3, 4, 5], 1) ➞ [5]\n",
    "\n",
    "last([4, 3, 9, 9, 7, 6], 3) ➞ [9, 7, 6]\n",
    "\n",
    "last([1, 2, 3, 4, 5], 7) ➞ \"invalid\"\n",
    "\n",
    "last([1, 2, 3, 4, 5], 0) ➞ []"
   ]
  },
  {
   "cell_type": "code",
   "execution_count": 50,
   "metadata": {},
   "outputs": [
    {
     "data": {
      "text/plain": [
       "[9, 7, 6]"
      ]
     },
     "execution_count": 50,
     "metadata": {},
     "output_type": "execute_result"
    }
   ],
   "source": [
    "last=[4, 3, 9, 9, 7, 6]\n",
    "last[len(last)-3:]"
   ]
  },
  {
   "cell_type": "code",
   "execution_count": 55,
   "metadata": {},
   "outputs": [],
   "source": [
    "def last(a, n):\n",
    "\tif n==0:\n",
    "\t\treturn []\n",
    "\telif n>len(a):\n",
    "\t\treturn \"invalid\"\n",
    "\telse:\n",
    "\t\treturn a[len(a)-n:]"
   ]
  },
  {
   "cell_type": "code",
   "execution_count": 56,
   "metadata": {},
   "outputs": [
    {
     "data": {
      "text/plain": [
       "[9, 7, 6]"
      ]
     },
     "execution_count": 56,
     "metadata": {},
     "output_type": "execute_result"
    }
   ],
   "source": [
    "last([4, 3, 9, 9, 7, 6], 3)"
   ]
  },
  {
   "cell_type": "code",
   "execution_count": 57,
   "metadata": {},
   "outputs": [
    {
     "data": {
      "text/plain": [
       "[5, 1, 2]"
      ]
     },
     "execution_count": 57,
     "metadata": {},
     "output_type": "execute_result"
    }
   ],
   "source": [
    "last([5, 1, 2], 3)"
   ]
  },
  {
   "cell_type": "code",
   "execution_count": 58,
   "metadata": {},
   "outputs": [
    {
     "data": {
      "text/plain": [
       "'invalid'"
      ]
     },
     "execution_count": 58,
     "metadata": {},
     "output_type": "execute_result"
    }
   ],
   "source": [
    "last([], 1)"
   ]
  },
  {
   "cell_type": "code",
   "execution_count": 59,
   "metadata": {},
   "outputs": [
    {
     "data": {
      "text/plain": [
       "'invalid'"
      ]
     },
     "execution_count": 59,
     "metadata": {},
     "output_type": "execute_result"
    }
   ],
   "source": [
    "last([1, 2, 3, 4, 5], 7)"
   ]
  },
  {
   "cell_type": "code",
   "execution_count": 60,
   "metadata": {},
   "outputs": [
    {
     "data": {
      "text/plain": [
       "[]"
      ]
     },
     "execution_count": 60,
     "metadata": {},
     "output_type": "execute_result"
    }
   ],
   "source": [
    "last([1, 2, 3, 4, 5], 0)"
   ]
  },
  {
   "cell_type": "markdown",
   "metadata": {},
   "source": [
    "Given a list of numbers and a value n, write a function that returns the probability of choosing a number greater than or equal to n from the list. The probability should be expressed as a percentage, rounded to one decimal place.\n",
    "probability([5, 1, 8, 9], 6) ➞ 50.0\n",
    "\n",
    "probability([7, 4, 17, 14, 12, 3], 16) ➞ 16.7\n",
    "\n",
    "probability([4, 6, 2, 9, 15, 18, 8, 2, 10, 8], 6) ➞ 70.0\n",
    "\n",
    "Probability of event = (num of favourable outcomes) / (total num of possible outcomes)"
   ]
  },
  {
   "cell_type": "code",
   "execution_count": 65,
   "metadata": {},
   "outputs": [],
   "source": [
    "def probability(lst, n):\n",
    "\treturn round(len([i for i in lst if i>=n])/(len(lst))*100,1)"
   ]
  },
  {
   "cell_type": "code",
   "execution_count": 66,
   "metadata": {},
   "outputs": [
    {
     "data": {
      "text/plain": [
       "33.3"
      ]
     },
     "execution_count": 66,
     "metadata": {},
     "output_type": "execute_result"
    }
   ],
   "source": [
    "probability([11, 10, 9, 18, 16, 18, 4, 3, 5], 13)"
   ]
  },
  {
   "cell_type": "code",
   "execution_count": 70,
   "metadata": {},
   "outputs": [
    {
     "name": "stdout",
     "output_type": "stream",
     "text": [
      "Sayı: 1\n",
      "Sayı Asal\n"
     ]
    }
   ],
   "source": [
    "sayac=0\n",
    "sayi=input('Sayı: ')\n",
    "for i in range(2,int(sayi)):\n",
    "      if(int(sayi)%i==0):\n",
    "            sayac+=1\n",
    "            break\n",
    "if(sayac!=0):\n",
    "      print(\"Sayı Asal Değil\")\n",
    "else:\n",
    "      print(\"Sayı Asal\")"
   ]
  },
  {
   "cell_type": "code",
   "execution_count": 72,
   "metadata": {},
   "outputs": [],
   "source": [
    "def is_prime(num):\n",
    "\tc=0\n",
    "\tif num==1:\n",
    "\t\treturn False\n",
    "\telse:\n",
    "\t\tfor i in range(2,num):\n",
    "\t\t\tif num%i==0:\n",
    "\t\t\t\tc+=1\n",
    "\t\t\t\tbreak\n",
    "\t\tif c!=0:\n",
    "\t\t\treturn False\n",
    "\t\telse:\n",
    "\t\t\treturn True"
   ]
  },
  {
   "cell_type": "code",
   "execution_count": 73,
   "metadata": {},
   "outputs": [
    {
     "data": {
      "text/plain": [
       "False"
      ]
     },
     "execution_count": 73,
     "metadata": {},
     "output_type": "execute_result"
    }
   ],
   "source": [
    "is_prime(1)"
   ]
  },
  {
   "cell_type": "code",
   "execution_count": 74,
   "metadata": {},
   "outputs": [
    {
     "data": {
      "text/plain": [
       "False"
      ]
     },
     "execution_count": 74,
     "metadata": {},
     "output_type": "execute_result"
    }
   ],
   "source": [
    "is_prime(18)"
   ]
  },
  {
   "cell_type": "code",
   "execution_count": 75,
   "metadata": {},
   "outputs": [
    {
     "data": {
      "text/plain": [
       "True"
      ]
     },
     "execution_count": 75,
     "metadata": {},
     "output_type": "execute_result"
    }
   ],
   "source": [
    "is_prime(31)"
   ]
  },
  {
   "cell_type": "code",
   "execution_count": 77,
   "metadata": {},
   "outputs": [
    {
     "data": {
      "text/plain": [
       "\"'1','2'\""
      ]
     },
     "execution_count": 77,
     "metadata": {},
     "output_type": "execute_result"
    }
   ],
   "source": [
    ">>> numbers = 1,2\n",
    "\",\".join(\"'{0}'\".format(n) for n in numbers)\n"
   ]
  },
  {
   "cell_type": "code",
   "execution_count": 85,
   "metadata": {},
   "outputs": [
    {
     "data": {
      "text/plain": [
       "109"
      ]
     },
     "execution_count": 85,
     "metadata": {},
     "output_type": "execute_result"
    }
   ],
   "source": [
    "ord(\"m\")"
   ]
  },
  {
   "cell_type": "markdown",
   "metadata": {},
   "source": [
    "Write a function that transforms all letters from [a, m] to 0 and letters from [n, z] to 1 in a string.\n",
    "\n",
    "convert_binary(\"house\") ➞ \"01110\"\n",
    "\n",
    "convert_binary(\"excLAIM\") ➞ \"0100000\"\n",
    "\n",
    "convert_binary(\"moon\") ➞ \"0111\"\n"
   ]
  },
  {
   "cell_type": "code",
   "execution_count": 86,
   "metadata": {},
   "outputs": [],
   "source": [
    "def convert_binary(string):\n",
    "\tzero='abcdefghijklm'\n",
    "\tone='nopqrstuvwxyz'\n",
    "\tstring=string.lower()\n",
    "\tans=''\n",
    "\tfor i in range(len(string)):\n",
    "\t\tif string[i] in zero: ans+='0'\n",
    "\t\telif string[i] in one: ans+='1'\n",
    "\treturn ans"
   ]
  },
  {
   "cell_type": "code",
   "execution_count": null,
   "metadata": {},
   "outputs": [],
   "source": []
  }
 ],
 "metadata": {
  "kernelspec": {
   "display_name": "Python 3",
   "language": "python",
   "name": "python3"
  },
  "language_info": {
   "codemirror_mode": {
    "name": "ipython",
    "version": 3
   },
   "file_extension": ".py",
   "mimetype": "text/x-python",
   "name": "python",
   "nbconvert_exporter": "python",
   "pygments_lexer": "ipython3",
   "version": "3.7.6"
  }
 },
 "nbformat": 4,
 "nbformat_minor": 4
}
